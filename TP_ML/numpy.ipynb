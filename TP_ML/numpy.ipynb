{
 "cells": [
  {
   "cell_type": "code",
   "execution_count": 3,
   "metadata": {},
   "outputs": [],
   "source": [
    "import numpy as np"
   ]
  },
  {
   "cell_type": "code",
   "execution_count": 4,
   "metadata": {},
   "outputs": [
    {
     "data": {
      "text/plain": [
       "array([[1, 5, 5, 0, 3],\n",
       "       [2, 0, 5, 0, 3],\n",
       "       [0, 0, 0, 0, 0],\n",
       "       [2, 0, 0, 4, 0],\n",
       "       [0, 4, 2, 0, 0]])"
      ]
     },
     "execution_count": 4,
     "metadata": {},
     "output_type": "execute_result"
    }
   ],
   "source": [
    "Reply = np.array([\n",
    "    [1, 5, 5, 0, 3],\n",
    "    [2, 0, 5, 0, 3],\n",
    "    [0, 0, 0, 0, 0],\n",
    "    [2, 0, 0, 4, 0],\n",
    "    [0, 4, 2, 0, 0]\n",
    "])\n",
    "\n",
    "Reply"
   ]
  },
  {
   "cell_type": "code",
   "execution_count": 5,
   "metadata": {},
   "outputs": [
    {
     "data": {
      "text/plain": [
       "array([[0, 2, 4, 0, 0],\n",
       "       [0, 0, 0, 0, 0],\n",
       "       [0, 0, 0, 0, 0],\n",
       "       [0, 0, 0, 0, 3],\n",
       "       [0, 2, 5, 0, 0]])"
      ]
     },
     "execution_count": 5,
     "metadata": {},
     "output_type": "execute_result"
    }
   ],
   "source": [
    "Retweet = np.array([\n",
    "    [0, 2, 4, 0, 0],\n",
    "    [0, 0, 0, 0, 0],\n",
    "    [0, 0, 0, 0, 0],\n",
    "    [0, 0, 0, 0, 3],\n",
    "    [0, 2, 5, 0, 0]\n",
    "])\n",
    "\n",
    "Retweet"
   ]
  },
  {
   "cell_type": "code",
   "execution_count": 6,
   "metadata": {},
   "outputs": [
    {
     "data": {
      "text/plain": [
       "array([[2, 5, 1, 0, 3],\n",
       "       [0, 0, 0, 0, 0],\n",
       "       [0, 5, 0, 3, 3],\n",
       "       [1, 0, 0, 4, 1],\n",
       "       [0, 0, 9, 0, 0]])"
      ]
     },
     "execution_count": 6,
     "metadata": {},
     "output_type": "execute_result"
    }
   ],
   "source": [
    "Like = np.array([\n",
    "    [2, 5, 1, 0, 3],\n",
    "    [0, 0, 0, 0, 0],\n",
    "    [0, 5, 0, 3, 3],\n",
    "    [1, 0, 0, 4, 1],\n",
    "    [0, 0, 9, 0, 0]\n",
    "])\n",
    "\n",
    "Like"
   ]
  },
  {
   "cell_type": "code",
   "execution_count": 7,
   "metadata": {},
   "outputs": [
    {
     "data": {
      "text/plain": [
       "array([ 2,  5, 10,  4,  3])"
      ]
     },
     "execution_count": 7,
     "metadata": {},
     "output_type": "execute_result"
    }
   ],
   "source": [
    "Post = np.array([2, 5, 10, 4, 3])\n",
    "\n",
    "Post"
   ]
  },
  {
   "cell_type": "code",
   "execution_count": 8,
   "metadata": {},
   "outputs": [
    {
     "data": {
      "text/plain": [
       "0"
      ]
     },
     "execution_count": 8,
     "metadata": {},
     "output_type": "execute_result"
    }
   ],
   "source": [
    "# (01) Trouver l'utilisateur qui répond (Reply) plus que les autres\n",
    "reply_out = Reply.sum(axis=1)\n",
    "\n",
    "reply_out.argmax()"
   ]
  },
  {
   "cell_type": "code",
   "execution_count": 9,
   "metadata": {},
   "outputs": [
    {
     "data": {
      "text/plain": [
       "4"
      ]
     },
     "execution_count": 9,
     "metadata": {},
     "output_type": "execute_result"
    }
   ],
   "source": [
    "# (02) Trouver l'utilisateur qui partage (Retweet) plus que les autres\n",
    "retweet_out = Retweet.sum(axis=1)\n",
    "\n",
    "retweet_out.argmax()"
   ]
  },
  {
   "cell_type": "code",
   "execution_count": 36,
   "metadata": {},
   "outputs": [
    {
     "data": {
      "text/plain": [
       "2"
      ]
     },
     "execution_count": 36,
     "metadata": {},
     "output_type": "execute_result"
    }
   ],
   "source": [
    "# (03) Trouver les utilisateurs qui ne répondent pas (Reply) et qui ne partagent pas (Retweet)\n",
    "reply_retweet_out = reply_out + retweet_out\n",
    "k=(reply_retweet_out == 0)\n",
    "list(k).index(True)"
   ]
  },
  {
   "cell_type": "code",
   "execution_count": 11,
   "metadata": {},
   "outputs": [
    {
     "data": {
      "text/plain": [
       "array([[1., 0., 0., 0., 0.],\n",
       "       [0., 1., 0., 0., 0.],\n",
       "       [0., 0., 1., 0., 0.],\n",
       "       [0., 0., 0., 1., 0.],\n",
       "       [0., 0., 0., 0., 1.]])"
      ]
     },
     "execution_count": 11,
     "metadata": {},
     "output_type": "execute_result"
    }
   ],
   "source": [
    "# (04-a) Créer une matrice diagonale en utilisant la première dimention de la matrice des Likes\n",
    "\n",
    "I = np.eye(Like.shape[0])\n",
    "\n",
    "I"
   ]
  },
  {
   "cell_type": "code",
   "execution_count": 38,
   "metadata": {},
   "outputs": [
    {
     "data": {
      "text/plain": [
       "array([2., 0., 0., 4., 0.])"
      ]
     },
     "execution_count": 38,
     "metadata": {},
     "output_type": "execute_result"
    }
   ],
   "source": [
    "# (04-b) Afficher le nombre des Likes que chaque utilisateur fait pour ses propres tweets\n",
    "\n",
    "nbr_self_likes = (I * Like).sum(axis=1)\n",
    "#element wise\n",
    "nbr_self_likes"
   ]
  },
  {
   "cell_type": "code",
   "execution_count": 13,
   "metadata": {},
   "outputs": [
    {
     "data": {
      "text/plain": [
       "array([ 9.,  0., 11.,  2.,  9.])"
      ]
     },
     "execution_count": 13,
     "metadata": {},
     "output_type": "execute_result"
    }
   ],
   "source": [
    "# (05) Afficher le nombre des Likes que chaque utilisateur fait pour les tweets autre que les tien\n",
    "\n",
    "like_out = Like.sum(axis=1)\n",
    "\n",
    "nbr_notself_likes = like_out - nbr_self_likes\n",
    "\n",
    "nbr_notself_likes"
   ]
  },
  {
   "cell_type": "code",
   "execution_count": 39,
   "metadata": {},
   "outputs": [
    {
     "data": {
      "text/plain": [
       "3"
      ]
     },
     "execution_count": 39,
     "metadata": {},
     "output_type": "execute_result"
    }
   ],
   "source": [
    "# (06) Trouver les utilisateurs qui aiment leurs propres tweets plus qu'ils aiment les tweets des autres\n",
    "\n",
    "like_more_self = nbr_notself_likes <  nbr_self_likes\n",
    "\n",
    "list(like_more_self).index(True)"
   ]
  },
  {
   "cell_type": "code",
   "execution_count": 40,
   "metadata": {},
   "outputs": [
    {
     "data": {
      "text/plain": [
       "1"
      ]
     },
     "execution_count": 40,
     "metadata": {},
     "output_type": "execute_result"
    }
   ],
   "source": [
    "# (07) Calculer leur nombre\n",
    "\n",
    "like_more_self.sum()"
   ]
  },
  {
   "cell_type": "code",
   "execution_count": 16,
   "metadata": {},
   "outputs": [
    {
     "data": {
      "text/plain": [
       "array([31, 10, 11, 15, 22])"
      ]
     },
     "execution_count": 16,
     "metadata": {},
     "output_type": "execute_result"
    }
   ],
   "source": [
    "# (08) Afficher le nombre des interactions que chaque utilisateur a fait\n",
    "\n",
    "reply_retweet_out + like_out"
   ]
  },
  {
   "cell_type": "code",
   "execution_count": 17,
   "metadata": {},
   "outputs": [
    {
     "data": {
      "text/plain": [
       "array([2, 5, 9, 4, 3])"
      ]
     },
     "execution_count": 17,
     "metadata": {},
     "output_type": "execute_result"
    }
   ],
   "source": [
    "# (01) Afficher le max des Likes que chaque utilisateur a reçu\n",
    "\n",
    "max_likes_in = Like.max(axis=0)\n",
    "\n",
    "max_likes_in"
   ]
  },
  {
   "cell_type": "code",
   "execution_count": 18,
   "metadata": {},
   "outputs": [
    {
     "data": {
      "text/plain": [
       "array([ True,  True, False,  True,  True])"
      ]
     },
     "execution_count": 18,
     "metadata": {},
     "output_type": "execute_result"
    }
   ],
   "source": [
    "# (02) Trouver les utilisateurs qui ont des likes pour tous leurs tweets au moins par une personne\n",
    "\n",
    "max_likes_in == Post"
   ]
  },
  {
   "cell_type": "code",
   "execution_count": 19,
   "metadata": {},
   "outputs": [
    {
     "data": {
      "text/plain": [
       "array([3, 3, 3, 2, 4])"
      ]
     },
     "execution_count": 19,
     "metadata": {},
     "output_type": "execute_result"
    }
   ],
   "source": [
    "# (03) calculer le nombre des arcs entrants (ayant au moins une interaction)\n",
    "\n",
    "in_arcs = ((Reply + Retweet + Like) > 0).astype(int).sum(axis=0)\n",
    "\n",
    "in_arcs"
   ]
  },
  {
   "cell_type": "code",
   "execution_count": 20,
   "metadata": {},
   "outputs": [
    {
     "data": {
      "text/plain": [
       "array([4, 3, 3, 3, 2])"
      ]
     },
     "execution_count": 20,
     "metadata": {},
     "output_type": "execute_result"
    }
   ],
   "source": [
    "# (04) calculer le nombre des arcs sortants (qui ont fait au moins une interaction)\n",
    "out_arcs = ((Reply + Retweet + Like) > 0).astype(int).sum(axis=1)\n",
    "\n",
    "out_arcs"
   ]
  }
 ],
 "metadata": {
  "kernelspec": {
   "display_name": "Python 3.10.5 64-bit",
   "language": "python",
   "name": "python3"
  },
  "language_info": {
   "codemirror_mode": {
    "name": "ipython",
    "version": 3
   },
   "file_extension": ".py",
   "mimetype": "text/x-python",
   "name": "python",
   "nbconvert_exporter": "python",
   "pygments_lexer": "ipython3",
   "version": "3.10.5"
  },
  "orig_nbformat": 4,
  "vscode": {
   "interpreter": {
    "hash": "67e0cbc25fa4f5baaacba1240f401bc655b640f8e15cfc935dfee2e63491bdf4"
   }
  }
 },
 "nbformat": 4,
 "nbformat_minor": 2
}
